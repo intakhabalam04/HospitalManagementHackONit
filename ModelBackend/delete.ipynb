{
 "cells": [
  {
   "cell_type": "code",
   "execution_count": 42,
   "id": "initial_id",
   "metadata": {
    "collapsed": true,
    "ExecuteTime": {
     "end_time": "2024-05-14T07:58:23.394284100Z",
     "start_time": "2024-05-14T07:58:23.380272300Z"
    }
   },
   "outputs": [],
   "source": [
    "import pandas as pd"
   ]
  },
  {
   "cell_type": "code",
   "outputs": [],
   "source": [
    "data = pd.read_csv('HospitalsInIndia.csv')"
   ],
   "metadata": {
    "collapsed": false,
    "ExecuteTime": {
     "end_time": "2024-05-14T07:58:23.476386700Z",
     "start_time": "2024-05-14T07:58:23.386284500Z"
    }
   },
   "id": "e8e9b9aa9a73559d",
   "execution_count": 43
  },
  {
   "cell_type": "code",
   "outputs": [
    {
     "data": {
      "text/plain": "      Unnamed: 0                                       Hospital        State  \\\n0              0                                   A A Hospital    Tamilnadu   \n1              1                                   A C Hospital    Tamilnadu   \n2              2          A-Care Orthopaedic & General Hospital  Maharashtra   \n3              3                         A-One Hospital Pvt Ltd        Delhi   \n4              4                              A.B.Eye Institute        Bihar   \n...          ...                                            ...          ...   \n1342        1343                     Dr. Mahesh Rathod Hospital      Gujarat   \n1343        1344                   Dr. Malathi Manipal Hospital    Karnataka   \n1344        1345             Dr. Manish Patankars Nath Hospital  Maharashtra   \n1345        1346       Dr. Manohara Sai Gowda Memorial Hospital    Karnataka   \n1346        1347  Dr. Mehta'S Multispeciality Hospital Pvt Ltd.    Tamilnadu   \n\n           City                                       LocalAddress  Pincode  \n0         Hosur                      Denkani Kottai Road Mathigiri   635110  \n1       Chennai  No-8, 3Rd Main Road, United India Nagar, Ayana...   600023  \n2        Mumbai  G-1, Giriraj Tower, Sai Baba Nagar, Mira Bhaya...   401107  \n3         Delhi  A-1/7, Panchim Vihar, Rohtak Road, New Delhi-1...   110063  \n4         Patna    Road No.12, Rajendra Nagar, Patna, Bihar-800016   800016  \n...         ...                                                ...      ...  \n1342     Rajkot           1, Sardarnagar, Nr. Astran Chowk, Rajkot   360001  \n1343  Bangalore  45/1, 45Th Cross, 9Th Block, Jayanagar, Bangal...   560069  \n1344     Mumbai  101, A-Wing, Golden Havens Apartments, Kolbad ...   400601  \n1345   Mulbagal       Nh-4, Opposite Inspection Bungalow, Mulbagal   563131  \n1346    Chennai  2 (E), Mc. Nicholas Road, Chennai, Opposite To...   600031  \n\n[1347 rows x 6 columns]",
      "text/html": "<div>\n<style scoped>\n    .dataframe tbody tr th:only-of-type {\n        vertical-align: middle;\n    }\n\n    .dataframe tbody tr th {\n        vertical-align: top;\n    }\n\n    .dataframe thead th {\n        text-align: right;\n    }\n</style>\n<table border=\"1\" class=\"dataframe\">\n  <thead>\n    <tr style=\"text-align: right;\">\n      <th></th>\n      <th>Unnamed: 0</th>\n      <th>Hospital</th>\n      <th>State</th>\n      <th>City</th>\n      <th>LocalAddress</th>\n      <th>Pincode</th>\n    </tr>\n  </thead>\n  <tbody>\n    <tr>\n      <th>0</th>\n      <td>0</td>\n      <td>A A Hospital</td>\n      <td>Tamilnadu</td>\n      <td>Hosur</td>\n      <td>Denkani Kottai Road Mathigiri</td>\n      <td>635110</td>\n    </tr>\n    <tr>\n      <th>1</th>\n      <td>1</td>\n      <td>A C Hospital</td>\n      <td>Tamilnadu</td>\n      <td>Chennai</td>\n      <td>No-8, 3Rd Main Road, United India Nagar, Ayana...</td>\n      <td>600023</td>\n    </tr>\n    <tr>\n      <th>2</th>\n      <td>2</td>\n      <td>A-Care Orthopaedic &amp; General Hospital</td>\n      <td>Maharashtra</td>\n      <td>Mumbai</td>\n      <td>G-1, Giriraj Tower, Sai Baba Nagar, Mira Bhaya...</td>\n      <td>401107</td>\n    </tr>\n    <tr>\n      <th>3</th>\n      <td>3</td>\n      <td>A-One Hospital Pvt Ltd</td>\n      <td>Delhi</td>\n      <td>Delhi</td>\n      <td>A-1/7, Panchim Vihar, Rohtak Road, New Delhi-1...</td>\n      <td>110063</td>\n    </tr>\n    <tr>\n      <th>4</th>\n      <td>4</td>\n      <td>A.B.Eye Institute</td>\n      <td>Bihar</td>\n      <td>Patna</td>\n      <td>Road No.12, Rajendra Nagar, Patna, Bihar-800016</td>\n      <td>800016</td>\n    </tr>\n    <tr>\n      <th>...</th>\n      <td>...</td>\n      <td>...</td>\n      <td>...</td>\n      <td>...</td>\n      <td>...</td>\n      <td>...</td>\n    </tr>\n    <tr>\n      <th>1342</th>\n      <td>1343</td>\n      <td>Dr. Mahesh Rathod Hospital</td>\n      <td>Gujarat</td>\n      <td>Rajkot</td>\n      <td>1, Sardarnagar, Nr. Astran Chowk, Rajkot</td>\n      <td>360001</td>\n    </tr>\n    <tr>\n      <th>1343</th>\n      <td>1344</td>\n      <td>Dr. Malathi Manipal Hospital</td>\n      <td>Karnataka</td>\n      <td>Bangalore</td>\n      <td>45/1, 45Th Cross, 9Th Block, Jayanagar, Bangal...</td>\n      <td>560069</td>\n    </tr>\n    <tr>\n      <th>1344</th>\n      <td>1345</td>\n      <td>Dr. Manish Patankars Nath Hospital</td>\n      <td>Maharashtra</td>\n      <td>Mumbai</td>\n      <td>101, A-Wing, Golden Havens Apartments, Kolbad ...</td>\n      <td>400601</td>\n    </tr>\n    <tr>\n      <th>1345</th>\n      <td>1346</td>\n      <td>Dr. Manohara Sai Gowda Memorial Hospital</td>\n      <td>Karnataka</td>\n      <td>Mulbagal</td>\n      <td>Nh-4, Opposite Inspection Bungalow, Mulbagal</td>\n      <td>563131</td>\n    </tr>\n    <tr>\n      <th>1346</th>\n      <td>1347</td>\n      <td>Dr. Mehta'S Multispeciality Hospital Pvt Ltd.</td>\n      <td>Tamilnadu</td>\n      <td>Chennai</td>\n      <td>2 (E), Mc. Nicholas Road, Chennai, Opposite To...</td>\n      <td>600031</td>\n    </tr>\n  </tbody>\n</table>\n<p>1347 rows × 6 columns</p>\n</div>"
     },
     "execution_count": 44,
     "metadata": {},
     "output_type": "execute_result"
    }
   ],
   "source": [
    "data"
   ],
   "metadata": {
    "collapsed": false,
    "ExecuteTime": {
     "end_time": "2024-05-14T07:58:23.476386700Z",
     "start_time": "2024-05-14T07:58:23.463866600Z"
    }
   },
   "id": "4b7957b8961830fb",
   "execution_count": 44
  },
  {
   "cell_type": "code",
   "outputs": [],
   "source": [
    "data1 = data[['Pincode','City','Hospital']]"
   ],
   "metadata": {
    "collapsed": false,
    "ExecuteTime": {
     "end_time": "2024-05-14T07:58:23.477386900Z",
     "start_time": "2024-05-14T07:58:23.473399300Z"
    }
   },
   "id": "d2515b83fad46750",
   "execution_count": 45
  },
  {
   "cell_type": "code",
   "outputs": [
    {
     "data": {
      "text/plain": "      Pincode       City                                       Hospital\n0      635110      Hosur                                   A A Hospital\n1      600023    Chennai                                   A C Hospital\n2      401107     Mumbai          A-Care Orthopaedic & General Hospital\n3      110063      Delhi                         A-One Hospital Pvt Ltd\n4      800016      Patna                              A.B.Eye Institute\n...       ...        ...                                            ...\n1342   360001     Rajkot                     Dr. Mahesh Rathod Hospital\n1343   560069  Bangalore                   Dr. Malathi Manipal Hospital\n1344   400601     Mumbai             Dr. Manish Patankars Nath Hospital\n1345   563131   Mulbagal       Dr. Manohara Sai Gowda Memorial Hospital\n1346   600031    Chennai  Dr. Mehta'S Multispeciality Hospital Pvt Ltd.\n\n[1347 rows x 3 columns]",
      "text/html": "<div>\n<style scoped>\n    .dataframe tbody tr th:only-of-type {\n        vertical-align: middle;\n    }\n\n    .dataframe tbody tr th {\n        vertical-align: top;\n    }\n\n    .dataframe thead th {\n        text-align: right;\n    }\n</style>\n<table border=\"1\" class=\"dataframe\">\n  <thead>\n    <tr style=\"text-align: right;\">\n      <th></th>\n      <th>Pincode</th>\n      <th>City</th>\n      <th>Hospital</th>\n    </tr>\n  </thead>\n  <tbody>\n    <tr>\n      <th>0</th>\n      <td>635110</td>\n      <td>Hosur</td>\n      <td>A A Hospital</td>\n    </tr>\n    <tr>\n      <th>1</th>\n      <td>600023</td>\n      <td>Chennai</td>\n      <td>A C Hospital</td>\n    </tr>\n    <tr>\n      <th>2</th>\n      <td>401107</td>\n      <td>Mumbai</td>\n      <td>A-Care Orthopaedic &amp; General Hospital</td>\n    </tr>\n    <tr>\n      <th>3</th>\n      <td>110063</td>\n      <td>Delhi</td>\n      <td>A-One Hospital Pvt Ltd</td>\n    </tr>\n    <tr>\n      <th>4</th>\n      <td>800016</td>\n      <td>Patna</td>\n      <td>A.B.Eye Institute</td>\n    </tr>\n    <tr>\n      <th>...</th>\n      <td>...</td>\n      <td>...</td>\n      <td>...</td>\n    </tr>\n    <tr>\n      <th>1342</th>\n      <td>360001</td>\n      <td>Rajkot</td>\n      <td>Dr. Mahesh Rathod Hospital</td>\n    </tr>\n    <tr>\n      <th>1343</th>\n      <td>560069</td>\n      <td>Bangalore</td>\n      <td>Dr. Malathi Manipal Hospital</td>\n    </tr>\n    <tr>\n      <th>1344</th>\n      <td>400601</td>\n      <td>Mumbai</td>\n      <td>Dr. Manish Patankars Nath Hospital</td>\n    </tr>\n    <tr>\n      <th>1345</th>\n      <td>563131</td>\n      <td>Mulbagal</td>\n      <td>Dr. Manohara Sai Gowda Memorial Hospital</td>\n    </tr>\n    <tr>\n      <th>1346</th>\n      <td>600031</td>\n      <td>Chennai</td>\n      <td>Dr. Mehta'S Multispeciality Hospital Pvt Ltd.</td>\n    </tr>\n  </tbody>\n</table>\n<p>1347 rows × 3 columns</p>\n</div>"
     },
     "execution_count": 46,
     "metadata": {},
     "output_type": "execute_result"
    }
   ],
   "source": [
    "data1"
   ],
   "metadata": {
    "collapsed": false,
    "ExecuteTime": {
     "end_time": "2024-05-14T07:58:23.497879700Z",
     "start_time": "2024-05-14T07:58:23.478386700Z"
    }
   },
   "id": "292e2a8dbd50b781",
   "execution_count": 46
  },
  {
   "cell_type": "code",
   "outputs": [
    {
     "data": {
      "text/plain": "pandas.core.frame.DataFrame"
     },
     "execution_count": 47,
     "metadata": {},
     "output_type": "execute_result"
    }
   ],
   "source": [
    "type(data1)"
   ],
   "metadata": {
    "collapsed": false,
    "ExecuteTime": {
     "end_time": "2024-05-14T07:58:23.539608600Z",
     "start_time": "2024-05-14T07:58:23.497879700Z"
    }
   },
   "id": "afcd1245a0d28bb4",
   "execution_count": 47
  },
  {
   "cell_type": "code",
   "outputs": [
    {
     "data": {
      "text/plain": "0       635110\n1       600023\n2       401107\n3       110063\n4       800016\n         ...  \n1342    360001\n1343    560069\n1344    400601\n1345    563131\n1346    600031\nName: Pincode, Length: 1347, dtype: int32"
     },
     "execution_count": 48,
     "metadata": {},
     "output_type": "execute_result"
    }
   ],
   "source": [
    "data1['Pincode'].astype('int')"
   ],
   "metadata": {
    "collapsed": false,
    "ExecuteTime": {
     "end_time": "2024-05-14T07:58:23.575175100Z",
     "start_time": "2024-05-14T07:58:23.507524800Z"
    }
   },
   "id": "cce44168eeb38f2c",
   "execution_count": 48
  },
  {
   "cell_type": "code",
   "outputs": [
    {
     "data": {
      "text/plain": "0"
     },
     "execution_count": 49,
     "metadata": {},
     "output_type": "execute_result"
    }
   ],
   "source": [
    "data['Pincode'].isna().sum()"
   ],
   "metadata": {
    "collapsed": false,
    "ExecuteTime": {
     "end_time": "2024-05-14T07:58:23.663656200Z",
     "start_time": "2024-05-14T07:58:23.521086100Z"
    }
   },
   "id": "826267f23690485",
   "execution_count": 49
  },
  {
   "cell_type": "code",
   "outputs": [
    {
     "data": {
      "text/plain": "Empty DataFrame\nColumns: [Pincode, City, Hospital]\nIndex: []",
      "text/html": "<div>\n<style scoped>\n    .dataframe tbody tr th:only-of-type {\n        vertical-align: middle;\n    }\n\n    .dataframe tbody tr th {\n        vertical-align: top;\n    }\n\n    .dataframe thead th {\n        text-align: right;\n    }\n</style>\n<table border=\"1\" class=\"dataframe\">\n  <thead>\n    <tr style=\"text-align: right;\">\n      <th></th>\n      <th>Pincode</th>\n      <th>City</th>\n      <th>Hospital</th>\n    </tr>\n  </thead>\n  <tbody>\n  </tbody>\n</table>\n</div>"
     },
     "execution_count": 50,
     "metadata": {},
     "output_type": "execute_result"
    }
   ],
   "source": [
    "data1[data1['Pincode'].isnull()]"
   ],
   "metadata": {
    "collapsed": false,
    "ExecuteTime": {
     "end_time": "2024-05-14T07:58:23.711869Z",
     "start_time": "2024-05-14T07:58:23.535607600Z"
    }
   },
   "id": "5e507ca8054ef486",
   "execution_count": 50
  },
  {
   "cell_type": "code",
   "outputs": [
    {
     "data": {
      "text/plain": "Empty DataFrame\nColumns: [Unnamed: 0, Hospital, State, City, LocalAddress, Pincode]\nIndex: []",
      "text/html": "<div>\n<style scoped>\n    .dataframe tbody tr th:only-of-type {\n        vertical-align: middle;\n    }\n\n    .dataframe tbody tr th {\n        vertical-align: top;\n    }\n\n    .dataframe thead th {\n        text-align: right;\n    }\n</style>\n<table border=\"1\" class=\"dataframe\">\n  <thead>\n    <tr style=\"text-align: right;\">\n      <th></th>\n      <th>Unnamed: 0</th>\n      <th>Hospital</th>\n      <th>State</th>\n      <th>City</th>\n      <th>LocalAddress</th>\n      <th>Pincode</th>\n    </tr>\n  </thead>\n  <tbody>\n  </tbody>\n</table>\n</div>"
     },
     "execution_count": 51,
     "metadata": {},
     "output_type": "execute_result"
    }
   ],
   "source": [
    "data[data['Pincode'].isnull()]"
   ],
   "metadata": {
    "collapsed": false,
    "ExecuteTime": {
     "end_time": "2024-05-14T07:58:23.739831400Z",
     "start_time": "2024-05-14T07:58:23.556968800Z"
    }
   },
   "id": "6df45e7c0fc12da3",
   "execution_count": 51
  },
  {
   "cell_type": "code",
   "outputs": [
    {
     "data": {
      "text/plain": "Pincode     0\nCity        0\nHospital    0\ndtype: int64"
     },
     "execution_count": 52,
     "metadata": {},
     "output_type": "execute_result"
    }
   ],
   "source": [
    "data1.isnull().sum()"
   ],
   "metadata": {
    "collapsed": false,
    "ExecuteTime": {
     "end_time": "2024-05-14T07:58:52.489385100Z",
     "start_time": "2024-05-14T07:58:52.480956800Z"
    }
   },
   "id": "9a71499ff7dcf153",
   "execution_count": 52
  },
  {
   "cell_type": "code",
   "outputs": [
    {
     "data": {
      "text/plain": "      Unnamed: 0                                       Hospital        State  \\\n0              0                                   A A Hospital    Tamilnadu   \n1              1                                   A C Hospital    Tamilnadu   \n2              2          A-Care Orthopaedic & General Hospital  Maharashtra   \n3              3                         A-One Hospital Pvt Ltd        Delhi   \n4              4                              A.B.Eye Institute        Bihar   \n...          ...                                            ...          ...   \n1342        1343                     Dr. Mahesh Rathod Hospital      Gujarat   \n1343        1344                   Dr. Malathi Manipal Hospital    Karnataka   \n1344        1345             Dr. Manish Patankars Nath Hospital  Maharashtra   \n1345        1346       Dr. Manohara Sai Gowda Memorial Hospital    Karnataka   \n1346        1347  Dr. Mehta'S Multispeciality Hospital Pvt Ltd.    Tamilnadu   \n\n           City                                       LocalAddress  Pincode  \n0         Hosur                      Denkani Kottai Road Mathigiri   635110  \n1       Chennai  No-8, 3Rd Main Road, United India Nagar, Ayana...   600023  \n2        Mumbai  G-1, Giriraj Tower, Sai Baba Nagar, Mira Bhaya...   401107  \n3         Delhi  A-1/7, Panchim Vihar, Rohtak Road, New Delhi-1...   110063  \n4         Patna    Road No.12, Rajendra Nagar, Patna, Bihar-800016   800016  \n...         ...                                                ...      ...  \n1342     Rajkot           1, Sardarnagar, Nr. Astran Chowk, Rajkot   360001  \n1343  Bangalore  45/1, 45Th Cross, 9Th Block, Jayanagar, Bangal...   560069  \n1344     Mumbai  101, A-Wing, Golden Havens Apartments, Kolbad ...   400601  \n1345   Mulbagal       Nh-4, Opposite Inspection Bungalow, Mulbagal   563131  \n1346    Chennai  2 (E), Mc. Nicholas Road, Chennai, Opposite To...   600031  \n\n[1347 rows x 6 columns]",
      "text/html": "<div>\n<style scoped>\n    .dataframe tbody tr th:only-of-type {\n        vertical-align: middle;\n    }\n\n    .dataframe tbody tr th {\n        vertical-align: top;\n    }\n\n    .dataframe thead th {\n        text-align: right;\n    }\n</style>\n<table border=\"1\" class=\"dataframe\">\n  <thead>\n    <tr style=\"text-align: right;\">\n      <th></th>\n      <th>Unnamed: 0</th>\n      <th>Hospital</th>\n      <th>State</th>\n      <th>City</th>\n      <th>LocalAddress</th>\n      <th>Pincode</th>\n    </tr>\n  </thead>\n  <tbody>\n    <tr>\n      <th>0</th>\n      <td>0</td>\n      <td>A A Hospital</td>\n      <td>Tamilnadu</td>\n      <td>Hosur</td>\n      <td>Denkani Kottai Road Mathigiri</td>\n      <td>635110</td>\n    </tr>\n    <tr>\n      <th>1</th>\n      <td>1</td>\n      <td>A C Hospital</td>\n      <td>Tamilnadu</td>\n      <td>Chennai</td>\n      <td>No-8, 3Rd Main Road, United India Nagar, Ayana...</td>\n      <td>600023</td>\n    </tr>\n    <tr>\n      <th>2</th>\n      <td>2</td>\n      <td>A-Care Orthopaedic &amp; General Hospital</td>\n      <td>Maharashtra</td>\n      <td>Mumbai</td>\n      <td>G-1, Giriraj Tower, Sai Baba Nagar, Mira Bhaya...</td>\n      <td>401107</td>\n    </tr>\n    <tr>\n      <th>3</th>\n      <td>3</td>\n      <td>A-One Hospital Pvt Ltd</td>\n      <td>Delhi</td>\n      <td>Delhi</td>\n      <td>A-1/7, Panchim Vihar, Rohtak Road, New Delhi-1...</td>\n      <td>110063</td>\n    </tr>\n    <tr>\n      <th>4</th>\n      <td>4</td>\n      <td>A.B.Eye Institute</td>\n      <td>Bihar</td>\n      <td>Patna</td>\n      <td>Road No.12, Rajendra Nagar, Patna, Bihar-800016</td>\n      <td>800016</td>\n    </tr>\n    <tr>\n      <th>...</th>\n      <td>...</td>\n      <td>...</td>\n      <td>...</td>\n      <td>...</td>\n      <td>...</td>\n      <td>...</td>\n    </tr>\n    <tr>\n      <th>1342</th>\n      <td>1343</td>\n      <td>Dr. Mahesh Rathod Hospital</td>\n      <td>Gujarat</td>\n      <td>Rajkot</td>\n      <td>1, Sardarnagar, Nr. Astran Chowk, Rajkot</td>\n      <td>360001</td>\n    </tr>\n    <tr>\n      <th>1343</th>\n      <td>1344</td>\n      <td>Dr. Malathi Manipal Hospital</td>\n      <td>Karnataka</td>\n      <td>Bangalore</td>\n      <td>45/1, 45Th Cross, 9Th Block, Jayanagar, Bangal...</td>\n      <td>560069</td>\n    </tr>\n    <tr>\n      <th>1344</th>\n      <td>1345</td>\n      <td>Dr. Manish Patankars Nath Hospital</td>\n      <td>Maharashtra</td>\n      <td>Mumbai</td>\n      <td>101, A-Wing, Golden Havens Apartments, Kolbad ...</td>\n      <td>400601</td>\n    </tr>\n    <tr>\n      <th>1345</th>\n      <td>1346</td>\n      <td>Dr. Manohara Sai Gowda Memorial Hospital</td>\n      <td>Karnataka</td>\n      <td>Mulbagal</td>\n      <td>Nh-4, Opposite Inspection Bungalow, Mulbagal</td>\n      <td>563131</td>\n    </tr>\n    <tr>\n      <th>1346</th>\n      <td>1347</td>\n      <td>Dr. Mehta'S Multispeciality Hospital Pvt Ltd.</td>\n      <td>Tamilnadu</td>\n      <td>Chennai</td>\n      <td>2 (E), Mc. Nicholas Road, Chennai, Opposite To...</td>\n      <td>600031</td>\n    </tr>\n  </tbody>\n</table>\n<p>1347 rows × 6 columns</p>\n</div>"
     },
     "execution_count": 53,
     "metadata": {},
     "output_type": "execute_result"
    }
   ],
   "source": [
    "data"
   ],
   "metadata": {
    "collapsed": false,
    "ExecuteTime": {
     "end_time": "2024-05-14T07:59:01.482126800Z",
     "start_time": "2024-05-14T07:59:01.471434500Z"
    }
   },
   "id": "2404df42c7bb43ab",
   "execution_count": 53
  },
  {
   "cell_type": "code",
   "outputs": [],
   "source": [
    "import pandas as pd\n",
    "\n",
    "\n",
    "# Convert the DataFrame to JSON\n",
    "json_data = data1.to_json(orient='records')\n",
    "\n",
    "# Write the JSON data to a file\n",
    "with open('hositalsinindia.json', 'w') as f:\n",
    "    f.write(json_data)\n",
    "\n"
   ],
   "metadata": {
    "collapsed": false,
    "ExecuteTime": {
     "end_time": "2024-05-14T08:01:21.399135600Z",
     "start_time": "2024-05-14T08:01:21.378470700Z"
    }
   },
   "id": "331c094081e087c3",
   "execution_count": 54
  }
 ],
 "metadata": {
  "kernelspec": {
   "display_name": "Python 3",
   "language": "python",
   "name": "python3"
  },
  "language_info": {
   "codemirror_mode": {
    "name": "ipython",
    "version": 2
   },
   "file_extension": ".py",
   "mimetype": "text/x-python",
   "name": "python",
   "nbconvert_exporter": "python",
   "pygments_lexer": "ipython2",
   "version": "2.7.6"
  }
 },
 "nbformat": 4,
 "nbformat_minor": 5
}
