{
 "cells": [
  {
   "cell_type": "code",
   "execution_count": 12,
   "id": "initial_id",
   "metadata": {
    "collapsed": true,
    "ExecuteTime": {
     "end_time": "2024-05-12T12:01:09.326808900Z",
     "start_time": "2024-05-12T12:01:09.281798800Z"
    }
   },
   "outputs": [],
   "source": [
    "import pandas as pd"
   ]
  },
  {
   "cell_type": "code",
   "outputs": [],
   "source": [
    "data = pd.read_csv('medicine (1).csv')"
   ],
   "metadata": {
    "collapsed": false,
    "ExecuteTime": {
     "end_time": "2024-05-12T12:01:09.414944700Z",
     "start_time": "2024-05-12T12:01:09.288825800Z"
    }
   },
   "id": "a360946bca92963",
   "execution_count": 13
  },
  {
   "cell_type": "code",
   "outputs": [
    {
     "data": {
      "text/plain": "      index                                          Drug_Name Reason  \\\n0         1               A CN Gel(Topical) 20gmA CN Soap 75gm   Acne   \n1         2  A Ret 0.05% Gel 20gmA Ret 0.1% Gel 20gmA Ret 0...   Acne   \n2         3                             ACGEL CL NANO Gel 15gm   Acne   \n3         4                                ACGEL NANO Gel 15gm   Acne   \n4         5                              Acleen 1% Lotion 25ml   Acne   \n...     ...                                                ...    ...   \n9715   9716                                T Muce Ointment 5gm  Wound   \n9716   9717  Wokadine 10% Solution 100mlWokadine Solution 5...  Wound   \n9717   9718                               Wokadine M Onit 10gm  Wound   \n9718   9719                           Wound Fix Solution 100ml  Wound   \n9719   9720                              Wounsol Ointment 15gm  Wound   \n\n                                            Description  \n0                         Mild to moderate acne (spots)  \n1     A RET 0.025% is a prescription medicine that i...  \n2     It is used to treat acne vulgaris in people 12...  \n3     It is used to treat acne vulgaris in people 12...  \n4     treat the most severe form of acne (nodular ac...  \n...                                                 ...  \n9715                            used for treating warts  \n9716                      used to soften the skin cells  \n9717                                     used for scars  \n9718                                    used for wounds  \n9719  used to treat and remove raised warts (usually...  \n\n[9720 rows x 4 columns]",
      "text/html": "<div>\n<style scoped>\n    .dataframe tbody tr th:only-of-type {\n        vertical-align: middle;\n    }\n\n    .dataframe tbody tr th {\n        vertical-align: top;\n    }\n\n    .dataframe thead th {\n        text-align: right;\n    }\n</style>\n<table border=\"1\" class=\"dataframe\">\n  <thead>\n    <tr style=\"text-align: right;\">\n      <th></th>\n      <th>index</th>\n      <th>Drug_Name</th>\n      <th>Reason</th>\n      <th>Description</th>\n    </tr>\n  </thead>\n  <tbody>\n    <tr>\n      <th>0</th>\n      <td>1</td>\n      <td>A CN Gel(Topical) 20gmA CN Soap 75gm</td>\n      <td>Acne</td>\n      <td>Mild to moderate acne (spots)</td>\n    </tr>\n    <tr>\n      <th>1</th>\n      <td>2</td>\n      <td>A Ret 0.05% Gel 20gmA Ret 0.1% Gel 20gmA Ret 0...</td>\n      <td>Acne</td>\n      <td>A RET 0.025% is a prescription medicine that i...</td>\n    </tr>\n    <tr>\n      <th>2</th>\n      <td>3</td>\n      <td>ACGEL CL NANO Gel 15gm</td>\n      <td>Acne</td>\n      <td>It is used to treat acne vulgaris in people 12...</td>\n    </tr>\n    <tr>\n      <th>3</th>\n      <td>4</td>\n      <td>ACGEL NANO Gel 15gm</td>\n      <td>Acne</td>\n      <td>It is used to treat acne vulgaris in people 12...</td>\n    </tr>\n    <tr>\n      <th>4</th>\n      <td>5</td>\n      <td>Acleen 1% Lotion 25ml</td>\n      <td>Acne</td>\n      <td>treat the most severe form of acne (nodular ac...</td>\n    </tr>\n    <tr>\n      <th>...</th>\n      <td>...</td>\n      <td>...</td>\n      <td>...</td>\n      <td>...</td>\n    </tr>\n    <tr>\n      <th>9715</th>\n      <td>9716</td>\n      <td>T Muce Ointment 5gm</td>\n      <td>Wound</td>\n      <td>used for treating warts</td>\n    </tr>\n    <tr>\n      <th>9716</th>\n      <td>9717</td>\n      <td>Wokadine 10% Solution 100mlWokadine Solution 5...</td>\n      <td>Wound</td>\n      <td>used to soften the skin cells</td>\n    </tr>\n    <tr>\n      <th>9717</th>\n      <td>9718</td>\n      <td>Wokadine M Onit 10gm</td>\n      <td>Wound</td>\n      <td>used for scars</td>\n    </tr>\n    <tr>\n      <th>9718</th>\n      <td>9719</td>\n      <td>Wound Fix Solution 100ml</td>\n      <td>Wound</td>\n      <td>used for wounds</td>\n    </tr>\n    <tr>\n      <th>9719</th>\n      <td>9720</td>\n      <td>Wounsol Ointment 15gm</td>\n      <td>Wound</td>\n      <td>used to treat and remove raised warts (usually...</td>\n    </tr>\n  </tbody>\n</table>\n<p>9720 rows × 4 columns</p>\n</div>"
     },
     "execution_count": 14,
     "metadata": {},
     "output_type": "execute_result"
    }
   ],
   "source": [
    "data"
   ],
   "metadata": {
    "collapsed": false,
    "ExecuteTime": {
     "end_time": "2024-05-12T12:01:09.449688200Z",
     "start_time": "2024-05-12T12:01:09.405941400Z"
    }
   },
   "id": "19602c8194eb0412",
   "execution_count": 14
  },
  {
   "cell_type": "code",
   "outputs": [],
   "source": [
    "# Convert the 'Drug_Name' column to a JSON string\n",
    "drug_json = data['Drug_Name'].to_json()\n",
    "\n",
    "# Write the JSON string to a file\n",
    "with open('drug_name.json', 'w') as f:\n",
    "    f.write(drug_json)"
   ],
   "metadata": {
    "collapsed": false,
    "ExecuteTime": {
     "end_time": "2024-05-12T12:02:01.285755600Z",
     "start_time": "2024-05-12T12:02:01.267898500Z"
    }
   },
   "id": "84efdd4e399d1699",
   "execution_count": 18
  },
  {
   "cell_type": "code",
   "outputs": [
    {
     "ename": "ValueError",
     "evalue": "If using all scalar values, you must pass an index",
     "output_type": "error",
     "traceback": [
      "\u001B[1;31m---------------------------------------------------------------------------\u001B[0m",
      "\u001B[1;31mValueError\u001B[0m                                Traceback (most recent call last)",
      "Cell \u001B[1;32mIn[19], line 1\u001B[0m\n\u001B[1;32m----> 1\u001B[0m \u001B[43mpd\u001B[49m\u001B[38;5;241;43m.\u001B[39;49m\u001B[43mread_json\u001B[49m\u001B[43m(\u001B[49m\u001B[38;5;124;43m'\u001B[39;49m\u001B[38;5;124;43mdrug_name.json\u001B[39;49m\u001B[38;5;124;43m'\u001B[39;49m\u001B[43m)\u001B[49m\n",
      "File \u001B[1;32m~\\Desktop\\pythonProject1\\.venv\\Lib\\site-packages\\pandas\\io\\json\\_json.py:815\u001B[0m, in \u001B[0;36mread_json\u001B[1;34m(path_or_buf, orient, typ, dtype, convert_axes, convert_dates, keep_default_dates, precise_float, date_unit, encoding, encoding_errors, lines, chunksize, compression, nrows, storage_options, dtype_backend, engine)\u001B[0m\n\u001B[0;32m    813\u001B[0m     \u001B[38;5;28;01mreturn\u001B[39;00m json_reader\n\u001B[0;32m    814\u001B[0m \u001B[38;5;28;01melse\u001B[39;00m:\n\u001B[1;32m--> 815\u001B[0m     \u001B[38;5;28;01mreturn\u001B[39;00m \u001B[43mjson_reader\u001B[49m\u001B[38;5;241;43m.\u001B[39;49m\u001B[43mread\u001B[49m\u001B[43m(\u001B[49m\u001B[43m)\u001B[49m\n",
      "File \u001B[1;32m~\\Desktop\\pythonProject1\\.venv\\Lib\\site-packages\\pandas\\io\\json\\_json.py:1025\u001B[0m, in \u001B[0;36mJsonReader.read\u001B[1;34m(self)\u001B[0m\n\u001B[0;32m   1023\u001B[0m         obj \u001B[38;5;241m=\u001B[39m \u001B[38;5;28mself\u001B[39m\u001B[38;5;241m.\u001B[39m_get_object_parser(\u001B[38;5;28mself\u001B[39m\u001B[38;5;241m.\u001B[39m_combine_lines(data_lines))\n\u001B[0;32m   1024\u001B[0m \u001B[38;5;28;01melse\u001B[39;00m:\n\u001B[1;32m-> 1025\u001B[0m     obj \u001B[38;5;241m=\u001B[39m \u001B[38;5;28;43mself\u001B[39;49m\u001B[38;5;241;43m.\u001B[39;49m\u001B[43m_get_object_parser\u001B[49m\u001B[43m(\u001B[49m\u001B[38;5;28;43mself\u001B[39;49m\u001B[38;5;241;43m.\u001B[39;49m\u001B[43mdata\u001B[49m\u001B[43m)\u001B[49m\n\u001B[0;32m   1026\u001B[0m \u001B[38;5;28;01mif\u001B[39;00m \u001B[38;5;28mself\u001B[39m\u001B[38;5;241m.\u001B[39mdtype_backend \u001B[38;5;129;01mis\u001B[39;00m \u001B[38;5;129;01mnot\u001B[39;00m lib\u001B[38;5;241m.\u001B[39mno_default:\n\u001B[0;32m   1027\u001B[0m     \u001B[38;5;28;01mreturn\u001B[39;00m obj\u001B[38;5;241m.\u001B[39mconvert_dtypes(\n\u001B[0;32m   1028\u001B[0m         infer_objects\u001B[38;5;241m=\u001B[39m\u001B[38;5;28;01mFalse\u001B[39;00m, dtype_backend\u001B[38;5;241m=\u001B[39m\u001B[38;5;28mself\u001B[39m\u001B[38;5;241m.\u001B[39mdtype_backend\n\u001B[0;32m   1029\u001B[0m     )\n",
      "File \u001B[1;32m~\\Desktop\\pythonProject1\\.venv\\Lib\\site-packages\\pandas\\io\\json\\_json.py:1051\u001B[0m, in \u001B[0;36mJsonReader._get_object_parser\u001B[1;34m(self, json)\u001B[0m\n\u001B[0;32m   1049\u001B[0m obj \u001B[38;5;241m=\u001B[39m \u001B[38;5;28;01mNone\u001B[39;00m\n\u001B[0;32m   1050\u001B[0m \u001B[38;5;28;01mif\u001B[39;00m typ \u001B[38;5;241m==\u001B[39m \u001B[38;5;124m\"\u001B[39m\u001B[38;5;124mframe\u001B[39m\u001B[38;5;124m\"\u001B[39m:\n\u001B[1;32m-> 1051\u001B[0m     obj \u001B[38;5;241m=\u001B[39m \u001B[43mFrameParser\u001B[49m\u001B[43m(\u001B[49m\u001B[43mjson\u001B[49m\u001B[43m,\u001B[49m\u001B[43m \u001B[49m\u001B[38;5;241;43m*\u001B[39;49m\u001B[38;5;241;43m*\u001B[39;49m\u001B[43mkwargs\u001B[49m\u001B[43m)\u001B[49m\u001B[38;5;241;43m.\u001B[39;49m\u001B[43mparse\u001B[49m\u001B[43m(\u001B[49m\u001B[43m)\u001B[49m\n\u001B[0;32m   1053\u001B[0m \u001B[38;5;28;01mif\u001B[39;00m typ \u001B[38;5;241m==\u001B[39m \u001B[38;5;124m\"\u001B[39m\u001B[38;5;124mseries\u001B[39m\u001B[38;5;124m\"\u001B[39m \u001B[38;5;129;01mor\u001B[39;00m obj \u001B[38;5;129;01mis\u001B[39;00m \u001B[38;5;28;01mNone\u001B[39;00m:\n\u001B[0;32m   1054\u001B[0m     \u001B[38;5;28;01mif\u001B[39;00m \u001B[38;5;129;01mnot\u001B[39;00m \u001B[38;5;28misinstance\u001B[39m(dtype, \u001B[38;5;28mbool\u001B[39m):\n",
      "File \u001B[1;32m~\\Desktop\\pythonProject1\\.venv\\Lib\\site-packages\\pandas\\io\\json\\_json.py:1187\u001B[0m, in \u001B[0;36mParser.parse\u001B[1;34m(self)\u001B[0m\n\u001B[0;32m   1185\u001B[0m \u001B[38;5;129m@final\u001B[39m\n\u001B[0;32m   1186\u001B[0m \u001B[38;5;28;01mdef\u001B[39;00m \u001B[38;5;21mparse\u001B[39m(\u001B[38;5;28mself\u001B[39m):\n\u001B[1;32m-> 1187\u001B[0m     \u001B[38;5;28;43mself\u001B[39;49m\u001B[38;5;241;43m.\u001B[39;49m\u001B[43m_parse\u001B[49m\u001B[43m(\u001B[49m\u001B[43m)\u001B[49m\n\u001B[0;32m   1189\u001B[0m     \u001B[38;5;28;01mif\u001B[39;00m \u001B[38;5;28mself\u001B[39m\u001B[38;5;241m.\u001B[39mobj \u001B[38;5;129;01mis\u001B[39;00m \u001B[38;5;28;01mNone\u001B[39;00m:\n\u001B[0;32m   1190\u001B[0m         \u001B[38;5;28;01mreturn\u001B[39;00m \u001B[38;5;28;01mNone\u001B[39;00m\n",
      "File \u001B[1;32m~\\Desktop\\pythonProject1\\.venv\\Lib\\site-packages\\pandas\\io\\json\\_json.py:1402\u001B[0m, in \u001B[0;36mFrameParser._parse\u001B[1;34m(self)\u001B[0m\n\u001B[0;32m   1399\u001B[0m orient \u001B[38;5;241m=\u001B[39m \u001B[38;5;28mself\u001B[39m\u001B[38;5;241m.\u001B[39morient\n\u001B[0;32m   1401\u001B[0m \u001B[38;5;28;01mif\u001B[39;00m orient \u001B[38;5;241m==\u001B[39m \u001B[38;5;124m\"\u001B[39m\u001B[38;5;124mcolumns\u001B[39m\u001B[38;5;124m\"\u001B[39m:\n\u001B[1;32m-> 1402\u001B[0m     \u001B[38;5;28mself\u001B[39m\u001B[38;5;241m.\u001B[39mobj \u001B[38;5;241m=\u001B[39m \u001B[43mDataFrame\u001B[49m\u001B[43m(\u001B[49m\n\u001B[0;32m   1403\u001B[0m \u001B[43m        \u001B[49m\u001B[43mujson_loads\u001B[49m\u001B[43m(\u001B[49m\u001B[43mjson\u001B[49m\u001B[43m,\u001B[49m\u001B[43m \u001B[49m\u001B[43mprecise_float\u001B[49m\u001B[38;5;241;43m=\u001B[39;49m\u001B[38;5;28;43mself\u001B[39;49m\u001B[38;5;241;43m.\u001B[39;49m\u001B[43mprecise_float\u001B[49m\u001B[43m)\u001B[49m\u001B[43m,\u001B[49m\u001B[43m \u001B[49m\u001B[43mdtype\u001B[49m\u001B[38;5;241;43m=\u001B[39;49m\u001B[38;5;28;43;01mNone\u001B[39;49;00m\n\u001B[0;32m   1404\u001B[0m \u001B[43m    \u001B[49m\u001B[43m)\u001B[49m\n\u001B[0;32m   1405\u001B[0m \u001B[38;5;28;01melif\u001B[39;00m orient \u001B[38;5;241m==\u001B[39m \u001B[38;5;124m\"\u001B[39m\u001B[38;5;124msplit\u001B[39m\u001B[38;5;124m\"\u001B[39m:\n\u001B[0;32m   1406\u001B[0m     decoded \u001B[38;5;241m=\u001B[39m {\n\u001B[0;32m   1407\u001B[0m         \u001B[38;5;28mstr\u001B[39m(k): v\n\u001B[0;32m   1408\u001B[0m         \u001B[38;5;28;01mfor\u001B[39;00m k, v \u001B[38;5;129;01min\u001B[39;00m ujson_loads(json, precise_float\u001B[38;5;241m=\u001B[39m\u001B[38;5;28mself\u001B[39m\u001B[38;5;241m.\u001B[39mprecise_float)\u001B[38;5;241m.\u001B[39mitems()\n\u001B[0;32m   1409\u001B[0m     }\n",
      "File \u001B[1;32m~\\Desktop\\pythonProject1\\.venv\\Lib\\site-packages\\pandas\\core\\frame.py:778\u001B[0m, in \u001B[0;36mDataFrame.__init__\u001B[1;34m(self, data, index, columns, dtype, copy)\u001B[0m\n\u001B[0;32m    772\u001B[0m     mgr \u001B[38;5;241m=\u001B[39m \u001B[38;5;28mself\u001B[39m\u001B[38;5;241m.\u001B[39m_init_mgr(\n\u001B[0;32m    773\u001B[0m         data, axes\u001B[38;5;241m=\u001B[39m{\u001B[38;5;124m\"\u001B[39m\u001B[38;5;124mindex\u001B[39m\u001B[38;5;124m\"\u001B[39m: index, \u001B[38;5;124m\"\u001B[39m\u001B[38;5;124mcolumns\u001B[39m\u001B[38;5;124m\"\u001B[39m: columns}, dtype\u001B[38;5;241m=\u001B[39mdtype, copy\u001B[38;5;241m=\u001B[39mcopy\n\u001B[0;32m    774\u001B[0m     )\n\u001B[0;32m    776\u001B[0m \u001B[38;5;28;01melif\u001B[39;00m \u001B[38;5;28misinstance\u001B[39m(data, \u001B[38;5;28mdict\u001B[39m):\n\u001B[0;32m    777\u001B[0m     \u001B[38;5;66;03m# GH#38939 de facto copy defaults to False only in non-dict cases\u001B[39;00m\n\u001B[1;32m--> 778\u001B[0m     mgr \u001B[38;5;241m=\u001B[39m \u001B[43mdict_to_mgr\u001B[49m\u001B[43m(\u001B[49m\u001B[43mdata\u001B[49m\u001B[43m,\u001B[49m\u001B[43m \u001B[49m\u001B[43mindex\u001B[49m\u001B[43m,\u001B[49m\u001B[43m \u001B[49m\u001B[43mcolumns\u001B[49m\u001B[43m,\u001B[49m\u001B[43m \u001B[49m\u001B[43mdtype\u001B[49m\u001B[38;5;241;43m=\u001B[39;49m\u001B[43mdtype\u001B[49m\u001B[43m,\u001B[49m\u001B[43m \u001B[49m\u001B[43mcopy\u001B[49m\u001B[38;5;241;43m=\u001B[39;49m\u001B[43mcopy\u001B[49m\u001B[43m,\u001B[49m\u001B[43m \u001B[49m\u001B[43mtyp\u001B[49m\u001B[38;5;241;43m=\u001B[39;49m\u001B[43mmanager\u001B[49m\u001B[43m)\u001B[49m\n\u001B[0;32m    779\u001B[0m \u001B[38;5;28;01melif\u001B[39;00m \u001B[38;5;28misinstance\u001B[39m(data, ma\u001B[38;5;241m.\u001B[39mMaskedArray):\n\u001B[0;32m    780\u001B[0m     \u001B[38;5;28;01mfrom\u001B[39;00m \u001B[38;5;21;01mnumpy\u001B[39;00m\u001B[38;5;21;01m.\u001B[39;00m\u001B[38;5;21;01mma\u001B[39;00m \u001B[38;5;28;01mimport\u001B[39;00m mrecords\n",
      "File \u001B[1;32m~\\Desktop\\pythonProject1\\.venv\\Lib\\site-packages\\pandas\\core\\internals\\construction.py:503\u001B[0m, in \u001B[0;36mdict_to_mgr\u001B[1;34m(data, index, columns, dtype, typ, copy)\u001B[0m\n\u001B[0;32m    499\u001B[0m     \u001B[38;5;28;01melse\u001B[39;00m:\n\u001B[0;32m    500\u001B[0m         \u001B[38;5;66;03m# dtype check to exclude e.g. range objects, scalars\u001B[39;00m\n\u001B[0;32m    501\u001B[0m         arrays \u001B[38;5;241m=\u001B[39m [x\u001B[38;5;241m.\u001B[39mcopy() \u001B[38;5;28;01mif\u001B[39;00m \u001B[38;5;28mhasattr\u001B[39m(x, \u001B[38;5;124m\"\u001B[39m\u001B[38;5;124mdtype\u001B[39m\u001B[38;5;124m\"\u001B[39m) \u001B[38;5;28;01melse\u001B[39;00m x \u001B[38;5;28;01mfor\u001B[39;00m x \u001B[38;5;129;01min\u001B[39;00m arrays]\n\u001B[1;32m--> 503\u001B[0m \u001B[38;5;28;01mreturn\u001B[39;00m \u001B[43marrays_to_mgr\u001B[49m\u001B[43m(\u001B[49m\u001B[43marrays\u001B[49m\u001B[43m,\u001B[49m\u001B[43m \u001B[49m\u001B[43mcolumns\u001B[49m\u001B[43m,\u001B[49m\u001B[43m \u001B[49m\u001B[43mindex\u001B[49m\u001B[43m,\u001B[49m\u001B[43m \u001B[49m\u001B[43mdtype\u001B[49m\u001B[38;5;241;43m=\u001B[39;49m\u001B[43mdtype\u001B[49m\u001B[43m,\u001B[49m\u001B[43m \u001B[49m\u001B[43mtyp\u001B[49m\u001B[38;5;241;43m=\u001B[39;49m\u001B[43mtyp\u001B[49m\u001B[43m,\u001B[49m\u001B[43m \u001B[49m\u001B[43mconsolidate\u001B[49m\u001B[38;5;241;43m=\u001B[39;49m\u001B[43mcopy\u001B[49m\u001B[43m)\u001B[49m\n",
      "File \u001B[1;32m~\\Desktop\\pythonProject1\\.venv\\Lib\\site-packages\\pandas\\core\\internals\\construction.py:114\u001B[0m, in \u001B[0;36marrays_to_mgr\u001B[1;34m(arrays, columns, index, dtype, verify_integrity, typ, consolidate)\u001B[0m\n\u001B[0;32m    111\u001B[0m \u001B[38;5;28;01mif\u001B[39;00m verify_integrity:\n\u001B[0;32m    112\u001B[0m     \u001B[38;5;66;03m# figure out the index, if necessary\u001B[39;00m\n\u001B[0;32m    113\u001B[0m     \u001B[38;5;28;01mif\u001B[39;00m index \u001B[38;5;129;01mis\u001B[39;00m \u001B[38;5;28;01mNone\u001B[39;00m:\n\u001B[1;32m--> 114\u001B[0m         index \u001B[38;5;241m=\u001B[39m \u001B[43m_extract_index\u001B[49m\u001B[43m(\u001B[49m\u001B[43marrays\u001B[49m\u001B[43m)\u001B[49m\n\u001B[0;32m    115\u001B[0m     \u001B[38;5;28;01melse\u001B[39;00m:\n\u001B[0;32m    116\u001B[0m         index \u001B[38;5;241m=\u001B[39m ensure_index(index)\n",
      "File \u001B[1;32m~\\Desktop\\pythonProject1\\.venv\\Lib\\site-packages\\pandas\\core\\internals\\construction.py:667\u001B[0m, in \u001B[0;36m_extract_index\u001B[1;34m(data)\u001B[0m\n\u001B[0;32m    664\u001B[0m         \u001B[38;5;28;01mraise\u001B[39;00m \u001B[38;5;167;01mValueError\u001B[39;00m(\u001B[38;5;124m\"\u001B[39m\u001B[38;5;124mPer-column arrays must each be 1-dimensional\u001B[39m\u001B[38;5;124m\"\u001B[39m)\n\u001B[0;32m    666\u001B[0m \u001B[38;5;28;01mif\u001B[39;00m \u001B[38;5;129;01mnot\u001B[39;00m indexes \u001B[38;5;129;01mand\u001B[39;00m \u001B[38;5;129;01mnot\u001B[39;00m raw_lengths:\n\u001B[1;32m--> 667\u001B[0m     \u001B[38;5;28;01mraise\u001B[39;00m \u001B[38;5;167;01mValueError\u001B[39;00m(\u001B[38;5;124m\"\u001B[39m\u001B[38;5;124mIf using all scalar values, you must pass an index\u001B[39m\u001B[38;5;124m\"\u001B[39m)\n\u001B[0;32m    669\u001B[0m \u001B[38;5;28;01mif\u001B[39;00m have_series:\n\u001B[0;32m    670\u001B[0m     index \u001B[38;5;241m=\u001B[39m union_indexes(indexes)\n",
      "\u001B[1;31mValueError\u001B[0m: If using all scalar values, you must pass an index"
     ]
    }
   ],
   "source": [
    "pd.read_json('drug_name.json')"
   ],
   "metadata": {
    "collapsed": false,
    "ExecuteTime": {
     "end_time": "2024-05-12T12:12:17.437838100Z",
     "start_time": "2024-05-12T12:12:13.703993700Z"
    }
   },
   "id": "4bd0346e98f5d46d",
   "execution_count": 19
  },
  {
   "cell_type": "code",
   "outputs": [],
   "source": [
    "drug_csv = data['Drug_Name']\n",
    "\n",
    "drug_csv.to_csv('drug_name.csv',index=False)"
   ],
   "metadata": {
    "collapsed": false,
    "ExecuteTime": {
     "end_time": "2024-05-12T12:29:50.094488600Z",
     "start_time": "2024-05-12T12:29:50.047093300Z"
    }
   },
   "id": "1eb186a7f35cfe9f",
   "execution_count": 22
  },
  {
   "cell_type": "code",
   "outputs": [],
   "source": [
    "df =pd.read_csv('drug_name.csv')"
   ],
   "metadata": {
    "collapsed": false,
    "ExecuteTime": {
     "end_time": "2024-05-12T12:30:35.456608200Z",
     "start_time": "2024-05-12T12:30:35.207778500Z"
    }
   },
   "id": "c9cf39df6823b2dc",
   "execution_count": 24
  },
  {
   "cell_type": "code",
   "outputs": [
    {
     "data": {
      "text/plain": "                                              Drug_Name\n0                  A CN Gel(Topical) 20gmA CN Soap 75gm\n1     A Ret 0.05% Gel 20gmA Ret 0.1% Gel 20gmA Ret 0...\n2                                ACGEL CL NANO Gel 15gm\n3                                   ACGEL NANO Gel 15gm\n4                                 Acleen 1% Lotion 25ml\n...                                                 ...\n9715                                T Muce Ointment 5gm\n9716  Wokadine 10% Solution 100mlWokadine Solution 5...\n9717                               Wokadine M Onit 10gm\n9718                           Wound Fix Solution 100ml\n9719                              Wounsol Ointment 15gm\n\n[9720 rows x 1 columns]",
      "text/html": "<div>\n<style scoped>\n    .dataframe tbody tr th:only-of-type {\n        vertical-align: middle;\n    }\n\n    .dataframe tbody tr th {\n        vertical-align: top;\n    }\n\n    .dataframe thead th {\n        text-align: right;\n    }\n</style>\n<table border=\"1\" class=\"dataframe\">\n  <thead>\n    <tr style=\"text-align: right;\">\n      <th></th>\n      <th>Drug_Name</th>\n    </tr>\n  </thead>\n  <tbody>\n    <tr>\n      <th>0</th>\n      <td>A CN Gel(Topical) 20gmA CN Soap 75gm</td>\n    </tr>\n    <tr>\n      <th>1</th>\n      <td>A Ret 0.05% Gel 20gmA Ret 0.1% Gel 20gmA Ret 0...</td>\n    </tr>\n    <tr>\n      <th>2</th>\n      <td>ACGEL CL NANO Gel 15gm</td>\n    </tr>\n    <tr>\n      <th>3</th>\n      <td>ACGEL NANO Gel 15gm</td>\n    </tr>\n    <tr>\n      <th>4</th>\n      <td>Acleen 1% Lotion 25ml</td>\n    </tr>\n    <tr>\n      <th>...</th>\n      <td>...</td>\n    </tr>\n    <tr>\n      <th>9715</th>\n      <td>T Muce Ointment 5gm</td>\n    </tr>\n    <tr>\n      <th>9716</th>\n      <td>Wokadine 10% Solution 100mlWokadine Solution 5...</td>\n    </tr>\n    <tr>\n      <th>9717</th>\n      <td>Wokadine M Onit 10gm</td>\n    </tr>\n    <tr>\n      <th>9718</th>\n      <td>Wound Fix Solution 100ml</td>\n    </tr>\n    <tr>\n      <th>9719</th>\n      <td>Wounsol Ointment 15gm</td>\n    </tr>\n  </tbody>\n</table>\n<p>9720 rows × 1 columns</p>\n</div>"
     },
     "execution_count": 25,
     "metadata": {},
     "output_type": "execute_result"
    }
   ],
   "source": [
    "df"
   ],
   "metadata": {
    "collapsed": false,
    "ExecuteTime": {
     "end_time": "2024-05-12T12:30:36.646567800Z",
     "start_time": "2024-05-12T12:30:36.628378300Z"
    }
   },
   "id": "1e686e6de754083c",
   "execution_count": 25
  },
  {
   "cell_type": "code",
   "outputs": [
    {
     "data": {
      "text/plain": "                                              Drug_Name\n9553                                     Viro 4 Kit 1'S\n9554                        Viroclear 400mg Tablet 28'S\n9555                             Virocomb N Tablet 60'S\n9556                      Virocomb E Compliance Kit 1'S\n9557                          Virolans 30mg Tablet 60'S\n...                                                 ...\n9715                                T Muce Ointment 5gm\n9716  Wokadine 10% Solution 100mlWokadine Solution 5...\n9717                               Wokadine M Onit 10gm\n9718                           Wound Fix Solution 100ml\n9719                              Wounsol Ointment 15gm\n\n[94 rows x 1 columns]",
      "text/html": "<div>\n<style scoped>\n    .dataframe tbody tr th:only-of-type {\n        vertical-align: middle;\n    }\n\n    .dataframe tbody tr th {\n        vertical-align: top;\n    }\n\n    .dataframe thead th {\n        text-align: right;\n    }\n</style>\n<table border=\"1\" class=\"dataframe\">\n  <thead>\n    <tr style=\"text-align: right;\">\n      <th></th>\n      <th>Drug_Name</th>\n    </tr>\n  </thead>\n  <tbody>\n    <tr>\n      <th>9553</th>\n      <td>Viro 4 Kit 1'S</td>\n    </tr>\n    <tr>\n      <th>9554</th>\n      <td>Viroclear 400mg Tablet 28'S</td>\n    </tr>\n    <tr>\n      <th>9555</th>\n      <td>Virocomb N Tablet 60'S</td>\n    </tr>\n    <tr>\n      <th>9556</th>\n      <td>Virocomb E Compliance Kit 1'S</td>\n    </tr>\n    <tr>\n      <th>9557</th>\n      <td>Virolans 30mg Tablet 60'S</td>\n    </tr>\n    <tr>\n      <th>...</th>\n      <td>...</td>\n    </tr>\n    <tr>\n      <th>9715</th>\n      <td>T Muce Ointment 5gm</td>\n    </tr>\n    <tr>\n      <th>9716</th>\n      <td>Wokadine 10% Solution 100mlWokadine Solution 5...</td>\n    </tr>\n    <tr>\n      <th>9717</th>\n      <td>Wokadine M Onit 10gm</td>\n    </tr>\n    <tr>\n      <th>9718</th>\n      <td>Wound Fix Solution 100ml</td>\n    </tr>\n    <tr>\n      <th>9719</th>\n      <td>Wounsol Ointment 15gm</td>\n    </tr>\n  </tbody>\n</table>\n<p>94 rows × 1 columns</p>\n</div>"
     },
     "execution_count": 29,
     "metadata": {},
     "output_type": "execute_result"
    }
   ],
   "source": [
    "df[df.duplicated()]"
   ],
   "metadata": {
    "collapsed": false,
    "ExecuteTime": {
     "end_time": "2024-05-12T12:32:52.297066600Z",
     "start_time": "2024-05-12T12:32:52.242476700Z"
    }
   },
   "id": "3b8d765ae1df39c5",
   "execution_count": 29
  },
  {
   "cell_type": "code",
   "outputs": [],
   "source": [
    "df.drop_duplicates(inplace=True)"
   ],
   "metadata": {
    "collapsed": false,
    "ExecuteTime": {
     "end_time": "2024-05-12T12:33:04.944810200Z",
     "start_time": "2024-05-12T12:33:04.908197Z"
    }
   },
   "id": "da7bf786832de270",
   "execution_count": 30
  },
  {
   "cell_type": "code",
   "outputs": [
    {
     "data": {
      "text/plain": "Empty DataFrame\nColumns: [Drug_Name]\nIndex: []",
      "text/html": "<div>\n<style scoped>\n    .dataframe tbody tr th:only-of-type {\n        vertical-align: middle;\n    }\n\n    .dataframe tbody tr th {\n        vertical-align: top;\n    }\n\n    .dataframe thead th {\n        text-align: right;\n    }\n</style>\n<table border=\"1\" class=\"dataframe\">\n  <thead>\n    <tr style=\"text-align: right;\">\n      <th></th>\n      <th>Drug_Name</th>\n    </tr>\n  </thead>\n  <tbody>\n  </tbody>\n</table>\n</div>"
     },
     "execution_count": 32,
     "metadata": {},
     "output_type": "execute_result"
    }
   ],
   "source": [
    "df[df.duplicated()]"
   ],
   "metadata": {
    "collapsed": false,
    "ExecuteTime": {
     "end_time": "2024-05-12T12:33:16.349391200Z",
     "start_time": "2024-05-12T12:33:16.322286800Z"
    }
   },
   "id": "e53b76dd46938ff6",
   "execution_count": 32
  },
  {
   "cell_type": "code",
   "outputs": [],
   "source": [
    "# Convert the 'Drug_Name' column to a JSON string\n",
    "drug_json = df['Drug_Name'].to_json()\n",
    "\n",
    "# Write the JSON string to a file\n",
    "with open('drug_name.json', 'w') as f:\n",
    "    f.write(drug_json)"
   ],
   "metadata": {
    "collapsed": false,
    "ExecuteTime": {
     "end_time": "2024-05-12T12:33:46.112243400Z",
     "start_time": "2024-05-12T12:33:46.076902500Z"
    }
   },
   "id": "8a488ff2c5d33f4d",
   "execution_count": 33
  },
  {
   "cell_type": "code",
   "outputs": [],
   "source": [
    "df1=pd.read_csv('HospitalsInIndia.csv')"
   ],
   "metadata": {
    "collapsed": false,
    "ExecuteTime": {
     "end_time": "2024-05-12T13:58:06.890479500Z",
     "start_time": "2024-05-12T13:58:06.876542500Z"
    }
   },
   "id": "46b61a6ac9adedcb",
   "execution_count": 36
  },
  {
   "cell_type": "code",
   "outputs": [
    {
     "data": {
      "text/plain": "Pincode\n143001.0    9\n122001.0    8\n572102.0    8\n522001.0    8\n380007.0    7\n           ..\n500062.0    1\n400101.0    1\n441001.0    1\n424101.0    1\n600031.0    1\nName: count, Length: 843, dtype: int64"
     },
     "execution_count": 42,
     "metadata": {},
     "output_type": "execute_result"
    }
   ],
   "source": [
    "df1.Pincode.value_counts()"
   ],
   "metadata": {
    "collapsed": false,
    "ExecuteTime": {
     "end_time": "2024-05-12T15:52:20.370410100Z",
     "start_time": "2024-05-12T15:52:20.275614200Z"
    }
   },
   "id": "9c53e182bdfa239a",
   "execution_count": 42
  },
  {
   "cell_type": "code",
   "outputs": [],
   "source": [],
   "metadata": {
    "collapsed": false
   },
   "id": "cdba041735743f78"
  }
 ],
 "metadata": {
  "kernelspec": {
   "display_name": "Python 3",
   "language": "python",
   "name": "python3"
  },
  "language_info": {
   "codemirror_mode": {
    "name": "ipython",
    "version": 2
   },
   "file_extension": ".py",
   "mimetype": "text/x-python",
   "name": "python",
   "nbconvert_exporter": "python",
   "pygments_lexer": "ipython2",
   "version": "2.7.6"
  }
 },
 "nbformat": 4,
 "nbformat_minor": 5
}
